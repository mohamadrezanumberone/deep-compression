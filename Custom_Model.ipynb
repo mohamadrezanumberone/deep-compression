{
  "nbformat": 4,
  "nbformat_minor": 0,
  "metadata": {
    "colab": {
      "name": "Custom Model.ipynb",
      "provenance": [],
      "collapsed_sections": [],
      "include_colab_link": true
    },
    "kernelspec": {
      "name": "python3",
      "display_name": "Python 3"
    },
    "language_info": {
      "name": "python"
    },
    "accelerator": "GPU",
    "widgets": {
      "application/vnd.jupyter.widget-state+json": {
        "ce5b7bc6b87f45858fd35155919b3cfb": {
          "model_module": "@jupyter-widgets/controls",
          "model_name": "HBoxModel",
          "model_module_version": "1.5.0",
          "state": {
            "_dom_classes": [],
            "_model_module": "@jupyter-widgets/controls",
            "_model_module_version": "1.5.0",
            "_model_name": "HBoxModel",
            "_view_count": null,
            "_view_module": "@jupyter-widgets/controls",
            "_view_module_version": "1.5.0",
            "_view_name": "HBoxView",
            "box_style": "",
            "children": [
              "IPY_MODEL_d0b21d3462c5433e902e6230af310c9c",
              "IPY_MODEL_d3f968311c344baca00566d23a4041a9",
              "IPY_MODEL_83f62795d4bb4a1685cb9c7e167996ca"
            ],
            "layout": "IPY_MODEL_804d8a68bda446248e5b4e99acbbf59f"
          }
        },
        "d0b21d3462c5433e902e6230af310c9c": {
          "model_module": "@jupyter-widgets/controls",
          "model_name": "HTMLModel",
          "model_module_version": "1.5.0",
          "state": {
            "_dom_classes": [],
            "_model_module": "@jupyter-widgets/controls",
            "_model_module_version": "1.5.0",
            "_model_name": "HTMLModel",
            "_view_count": null,
            "_view_module": "@jupyter-widgets/controls",
            "_view_module_version": "1.5.0",
            "_view_name": "HTMLView",
            "description": "",
            "description_tooltip": null,
            "layout": "IPY_MODEL_d640be09e0a54f16aadff2cf064b1d0e",
            "placeholder": "​",
            "style": "IPY_MODEL_6f8a94cfe45b402591552070970b39fe",
            "value": ""
          }
        },
        "d3f968311c344baca00566d23a4041a9": {
          "model_module": "@jupyter-widgets/controls",
          "model_name": "FloatProgressModel",
          "model_module_version": "1.5.0",
          "state": {
            "_dom_classes": [],
            "_model_module": "@jupyter-widgets/controls",
            "_model_module_version": "1.5.0",
            "_model_name": "FloatProgressModel",
            "_view_count": null,
            "_view_module": "@jupyter-widgets/controls",
            "_view_module_version": "1.5.0",
            "_view_name": "ProgressView",
            "bar_style": "success",
            "description": "",
            "description_tooltip": null,
            "layout": "IPY_MODEL_0e8ddcfb73384ddca52e1ff8e2eedf1f",
            "max": 170498071,
            "min": 0,
            "orientation": "horizontal",
            "style": "IPY_MODEL_96de6b08e3b44e56874136fa78f694e2",
            "value": 170498071
          }
        },
        "83f62795d4bb4a1685cb9c7e167996ca": {
          "model_module": "@jupyter-widgets/controls",
          "model_name": "HTMLModel",
          "model_module_version": "1.5.0",
          "state": {
            "_dom_classes": [],
            "_model_module": "@jupyter-widgets/controls",
            "_model_module_version": "1.5.0",
            "_model_name": "HTMLModel",
            "_view_count": null,
            "_view_module": "@jupyter-widgets/controls",
            "_view_module_version": "1.5.0",
            "_view_name": "HTMLView",
            "description": "",
            "description_tooltip": null,
            "layout": "IPY_MODEL_34a0a77d083c414291f19ae683e7eb2f",
            "placeholder": "​",
            "style": "IPY_MODEL_55855c43a9b54e9b8c37f77dec4f905c",
            "value": " 170499072/? [00:06&lt;00:00, 31290276.06it/s]"
          }
        },
        "804d8a68bda446248e5b4e99acbbf59f": {
          "model_module": "@jupyter-widgets/base",
          "model_name": "LayoutModel",
          "model_module_version": "1.2.0",
          "state": {
            "_model_module": "@jupyter-widgets/base",
            "_model_module_version": "1.2.0",
            "_model_name": "LayoutModel",
            "_view_count": null,
            "_view_module": "@jupyter-widgets/base",
            "_view_module_version": "1.2.0",
            "_view_name": "LayoutView",
            "align_content": null,
            "align_items": null,
            "align_self": null,
            "border": null,
            "bottom": null,
            "display": null,
            "flex": null,
            "flex_flow": null,
            "grid_area": null,
            "grid_auto_columns": null,
            "grid_auto_flow": null,
            "grid_auto_rows": null,
            "grid_column": null,
            "grid_gap": null,
            "grid_row": null,
            "grid_template_areas": null,
            "grid_template_columns": null,
            "grid_template_rows": null,
            "height": null,
            "justify_content": null,
            "justify_items": null,
            "left": null,
            "margin": null,
            "max_height": null,
            "max_width": null,
            "min_height": null,
            "min_width": null,
            "object_fit": null,
            "object_position": null,
            "order": null,
            "overflow": null,
            "overflow_x": null,
            "overflow_y": null,
            "padding": null,
            "right": null,
            "top": null,
            "visibility": null,
            "width": null
          }
        },
        "d640be09e0a54f16aadff2cf064b1d0e": {
          "model_module": "@jupyter-widgets/base",
          "model_name": "LayoutModel",
          "model_module_version": "1.2.0",
          "state": {
            "_model_module": "@jupyter-widgets/base",
            "_model_module_version": "1.2.0",
            "_model_name": "LayoutModel",
            "_view_count": null,
            "_view_module": "@jupyter-widgets/base",
            "_view_module_version": "1.2.0",
            "_view_name": "LayoutView",
            "align_content": null,
            "align_items": null,
            "align_self": null,
            "border": null,
            "bottom": null,
            "display": null,
            "flex": null,
            "flex_flow": null,
            "grid_area": null,
            "grid_auto_columns": null,
            "grid_auto_flow": null,
            "grid_auto_rows": null,
            "grid_column": null,
            "grid_gap": null,
            "grid_row": null,
            "grid_template_areas": null,
            "grid_template_columns": null,
            "grid_template_rows": null,
            "height": null,
            "justify_content": null,
            "justify_items": null,
            "left": null,
            "margin": null,
            "max_height": null,
            "max_width": null,
            "min_height": null,
            "min_width": null,
            "object_fit": null,
            "object_position": null,
            "order": null,
            "overflow": null,
            "overflow_x": null,
            "overflow_y": null,
            "padding": null,
            "right": null,
            "top": null,
            "visibility": null,
            "width": null
          }
        },
        "6f8a94cfe45b402591552070970b39fe": {
          "model_module": "@jupyter-widgets/controls",
          "model_name": "DescriptionStyleModel",
          "model_module_version": "1.5.0",
          "state": {
            "_model_module": "@jupyter-widgets/controls",
            "_model_module_version": "1.5.0",
            "_model_name": "DescriptionStyleModel",
            "_view_count": null,
            "_view_module": "@jupyter-widgets/base",
            "_view_module_version": "1.2.0",
            "_view_name": "StyleView",
            "description_width": ""
          }
        },
        "0e8ddcfb73384ddca52e1ff8e2eedf1f": {
          "model_module": "@jupyter-widgets/base",
          "model_name": "LayoutModel",
          "model_module_version": "1.2.0",
          "state": {
            "_model_module": "@jupyter-widgets/base",
            "_model_module_version": "1.2.0",
            "_model_name": "LayoutModel",
            "_view_count": null,
            "_view_module": "@jupyter-widgets/base",
            "_view_module_version": "1.2.0",
            "_view_name": "LayoutView",
            "align_content": null,
            "align_items": null,
            "align_self": null,
            "border": null,
            "bottom": null,
            "display": null,
            "flex": null,
            "flex_flow": null,
            "grid_area": null,
            "grid_auto_columns": null,
            "grid_auto_flow": null,
            "grid_auto_rows": null,
            "grid_column": null,
            "grid_gap": null,
            "grid_row": null,
            "grid_template_areas": null,
            "grid_template_columns": null,
            "grid_template_rows": null,
            "height": null,
            "justify_content": null,
            "justify_items": null,
            "left": null,
            "margin": null,
            "max_height": null,
            "max_width": null,
            "min_height": null,
            "min_width": null,
            "object_fit": null,
            "object_position": null,
            "order": null,
            "overflow": null,
            "overflow_x": null,
            "overflow_y": null,
            "padding": null,
            "right": null,
            "top": null,
            "visibility": null,
            "width": null
          }
        },
        "96de6b08e3b44e56874136fa78f694e2": {
          "model_module": "@jupyter-widgets/controls",
          "model_name": "ProgressStyleModel",
          "model_module_version": "1.5.0",
          "state": {
            "_model_module": "@jupyter-widgets/controls",
            "_model_module_version": "1.5.0",
            "_model_name": "ProgressStyleModel",
            "_view_count": null,
            "_view_module": "@jupyter-widgets/base",
            "_view_module_version": "1.2.0",
            "_view_name": "StyleView",
            "bar_color": null,
            "description_width": ""
          }
        },
        "34a0a77d083c414291f19ae683e7eb2f": {
          "model_module": "@jupyter-widgets/base",
          "model_name": "LayoutModel",
          "model_module_version": "1.2.0",
          "state": {
            "_model_module": "@jupyter-widgets/base",
            "_model_module_version": "1.2.0",
            "_model_name": "LayoutModel",
            "_view_count": null,
            "_view_module": "@jupyter-widgets/base",
            "_view_module_version": "1.2.0",
            "_view_name": "LayoutView",
            "align_content": null,
            "align_items": null,
            "align_self": null,
            "border": null,
            "bottom": null,
            "display": null,
            "flex": null,
            "flex_flow": null,
            "grid_area": null,
            "grid_auto_columns": null,
            "grid_auto_flow": null,
            "grid_auto_rows": null,
            "grid_column": null,
            "grid_gap": null,
            "grid_row": null,
            "grid_template_areas": null,
            "grid_template_columns": null,
            "grid_template_rows": null,
            "height": null,
            "justify_content": null,
            "justify_items": null,
            "left": null,
            "margin": null,
            "max_height": null,
            "max_width": null,
            "min_height": null,
            "min_width": null,
            "object_fit": null,
            "object_position": null,
            "order": null,
            "overflow": null,
            "overflow_x": null,
            "overflow_y": null,
            "padding": null,
            "right": null,
            "top": null,
            "visibility": null,
            "width": null
          }
        },
        "55855c43a9b54e9b8c37f77dec4f905c": {
          "model_module": "@jupyter-widgets/controls",
          "model_name": "DescriptionStyleModel",
          "model_module_version": "1.5.0",
          "state": {
            "_model_module": "@jupyter-widgets/controls",
            "_model_module_version": "1.5.0",
            "_model_name": "DescriptionStyleModel",
            "_view_count": null,
            "_view_module": "@jupyter-widgets/base",
            "_view_module_version": "1.2.0",
            "_view_name": "StyleView",
            "description_width": ""
          }
        }
      }
    }
  },
  "cells": [
    {
      "cell_type": "markdown",
      "metadata": {
        "id": "view-in-github",
        "colab_type": "text"
      },
      "source": [
        "<a href=\"https://colab.research.google.com/github/mohamadrezanumberone/deep-compression/blob/master/Custom_Model.ipynb\" target=\"_parent\"><img src=\"https://colab.research.google.com/assets/colab-badge.svg\" alt=\"Open In Colab\"/></a>"
      ]
    },
    {
      "cell_type": "markdown",
      "source": [
        "# Import"
      ],
      "metadata": {
        "id": "ElVeuqlSkrH4"
      }
    },
    {
      "cell_type": "code",
      "execution_count": 1,
      "metadata": {
        "id": "RGlznXnPj8Sc"
      },
      "outputs": [],
      "source": [
        "import torch\n",
        "import torchvision\n",
        "from torchvision.datasets import CIFAR10\n",
        "from torchvision import transforms\n",
        "import torch.nn as nn\n",
        "import copy\n",
        "import time\n",
        "import torch.optim as optim\n",
        "import numpy as np\n",
        "from torchvision import datasets, models, transforms\n",
        "from __future__ import print_function\n",
        "from __future__ import division\n",
        "import matplotlib.pyplot as plt\n",
        "import torchvision.models as models\n",
        "import torchsummary\n",
        "from sklearn.cluster import KMeans\n",
        "from skimage.io import imread\n",
        "from skimage.color import rgb2gray\n",
        "import numpy as np\n",
        "%matplotlib inline\n",
        "from scipy import ndimage\n",
        "import torch\n",
        "from collections import OrderedDict "
      ]
    },
    {
      "cell_type": "markdown",
      "source": [
        "# Initialization\n"
      ],
      "metadata": {
        "id": "nuErdWcGk-b6"
      }
    },
    {
      "cell_type": "code",
      "source": [
        "batch_size = 256\n",
        "num_class = 10\n",
        "num_epochs = 24\n",
        "feature_extract = True\n",
        "device = 'cuda' if torch.cuda.is_available() else 'cpu'\n",
        "print(device)"
      ],
      "metadata": {
        "colab": {
          "base_uri": "https://localhost:8080/"
        },
        "id": "0Tmu4LpIk3EW",
        "outputId": "0dc39d8b-68bc-444a-85a4-d7e06ba05272"
      },
      "execution_count": 3,
      "outputs": [
        {
          "output_type": "stream",
          "name": "stdout",
          "text": [
            "cuda\n"
          ]
        }
      ]
    },
    {
      "cell_type": "markdown",
      "source": [
        "# Dataset"
      ],
      "metadata": {
        "id": "EbQ-F_3nlk9M"
      }
    },
    {
      "cell_type": "code",
      "source": [
        "train_dataset = CIFAR10('./CIFAR10', train= True, transform= transforms.ToTensor(), target_transform = None, download= True)\n",
        "test_dataset = CIFAR10('./CIFAR10', train= False, transform= transforms.ToTensor(), target_transform = None, download= True)\n"
      ],
      "metadata": {
        "colab": {
          "base_uri": "https://localhost:8080/",
          "height": 101,
          "referenced_widgets": [
            "ce5b7bc6b87f45858fd35155919b3cfb",
            "d0b21d3462c5433e902e6230af310c9c",
            "d3f968311c344baca00566d23a4041a9",
            "83f62795d4bb4a1685cb9c7e167996ca",
            "804d8a68bda446248e5b4e99acbbf59f",
            "d640be09e0a54f16aadff2cf064b1d0e",
            "6f8a94cfe45b402591552070970b39fe",
            "0e8ddcfb73384ddca52e1ff8e2eedf1f",
            "96de6b08e3b44e56874136fa78f694e2",
            "34a0a77d083c414291f19ae683e7eb2f",
            "55855c43a9b54e9b8c37f77dec4f905c"
          ]
        },
        "id": "1vpY8xEuln_6",
        "outputId": "7419e640-01d0-42aa-e66d-c5f014f8f305"
      },
      "execution_count": 4,
      "outputs": [
        {
          "output_type": "stream",
          "name": "stdout",
          "text": [
            "Downloading https://www.cs.toronto.edu/~kriz/cifar-10-python.tar.gz to ./CIFAR10/cifar-10-python.tar.gz\n"
          ]
        },
        {
          "output_type": "display_data",
          "data": {
            "text/plain": [
              "  0%|          | 0/170498071 [00:00<?, ?it/s]"
            ],
            "application/vnd.jupyter.widget-view+json": {
              "version_major": 2,
              "version_minor": 0,
              "model_id": "ce5b7bc6b87f45858fd35155919b3cfb"
            }
          },
          "metadata": {}
        },
        {
          "output_type": "stream",
          "name": "stdout",
          "text": [
            "Extracting ./CIFAR10/cifar-10-python.tar.gz to ./CIFAR10\n",
            "Files already downloaded and verified\n"
          ]
        }
      ]
    },
    {
      "cell_type": "code",
      "source": [
        "train_loader = torch.utils.data.DataLoader(dataset=train_dataset, batch_size=batch_size, shuffle=True)\n",
        "test_loader = torch.utils.data.DataLoader(dataset=test_dataset, batch_size=batch_size, shuffle=True)"
      ],
      "metadata": {
        "id": "EjFXqZkIl2bC"
      },
      "execution_count": 5,
      "outputs": []
    },
    {
      "cell_type": "code",
      "source": [
        "for batch_number, (images, labels) in enumerate(train_loader):\n",
        "    print(batch_number, images.shape)"
      ],
      "metadata": {
        "id": "fNJq6qnCmhvZ"
      },
      "execution_count": null,
      "outputs": []
    },
    {
      "cell_type": "code",
      "source": [
        "one_train_batch_imgs, one_train_batch_lbls = next(iter(train_loader))\n",
        "print(one_train_batch_imgs.shape,\"\\n\", one_train_batch_lbls)"
      ],
      "metadata": {
        "id": "V9iC-sVmmsAx",
        "colab": {
          "base_uri": "https://localhost:8080/"
        },
        "outputId": "e915d319-9d27-4d46-8917-4afdc8f7216f"
      },
      "execution_count": 7,
      "outputs": [
        {
          "output_type": "stream",
          "name": "stdout",
          "text": [
            "torch.Size([256, 3, 32, 32]) \n",
            " tensor([5, 4, 5, 7, 8, 7, 5, 8, 3, 6, 6, 6, 8, 1, 1, 4, 4, 1, 0, 9, 8, 5, 2, 7,\n",
            "        4, 5, 5, 7, 7, 8, 5, 1, 3, 2, 8, 7, 6, 9, 8, 0, 2, 3, 1, 5, 4, 2, 7, 6,\n",
            "        2, 0, 0, 7, 5, 5, 3, 3, 5, 3, 7, 4, 7, 4, 7, 9, 7, 9, 8, 9, 7, 2, 5, 3,\n",
            "        5, 2, 8, 4, 1, 6, 4, 1, 2, 1, 4, 7, 2, 7, 5, 2, 6, 9, 2, 7, 3, 1, 3, 9,\n",
            "        9, 5, 7, 5, 1, 4, 1, 2, 2, 4, 1, 5, 4, 9, 7, 6, 7, 6, 2, 4, 0, 7, 4, 1,\n",
            "        2, 2, 2, 0, 2, 3, 6, 2, 0, 4, 4, 2, 5, 8, 0, 2, 0, 5, 1, 8, 8, 1, 6, 2,\n",
            "        4, 1, 0, 9, 0, 4, 1, 3, 6, 6, 0, 1, 9, 2, 8, 3, 0, 6, 2, 6, 9, 7, 4, 8,\n",
            "        9, 0, 6, 3, 3, 5, 2, 1, 5, 9, 7, 4, 9, 4, 1, 6, 9, 6, 5, 7, 9, 1, 1, 4,\n",
            "        4, 0, 3, 4, 7, 7, 9, 6, 7, 3, 0, 7, 1, 7, 8, 2, 4, 2, 2, 7, 5, 1, 7, 7,\n",
            "        6, 4, 7, 6, 2, 3, 2, 3, 1, 1, 7, 0, 0, 0, 6, 2, 5, 4, 5, 6, 5, 2, 1, 0,\n",
            "        3, 8, 6, 4, 9, 0, 5, 3, 3, 1, 1, 3, 3, 4, 2, 5])\n"
          ]
        }
      ]
    },
    {
      "cell_type": "code",
      "source": [
        "dataloaders = {'train': train_loader ,'test': test_loader}"
      ],
      "metadata": {
        "id": "6CWeBp_Gmy6g"
      },
      "execution_count": 8,
      "outputs": []
    },
    {
      "cell_type": "markdown",
      "source": [
        "# Model"
      ],
      "metadata": {
        "id": "xk1TJ9-gm0TW"
      }
    },
    {
      "cell_type": "code",
      "source": [
        "class cluster_model(nn.Module):\n",
        "\n",
        "    def __init__(self, num_class):\n",
        "\n",
        "        super(cluster_model, self).__init__() \n",
        "\n",
        "        # Layer one\n",
        "        self.conv2d_1 = nn.Sequential(nn.Conv2d(3, 32, (3, 3), stride=1, padding=2),\n",
        "                        nn.ReLU(),\n",
        "                        nn.MaxPool2d(3, 2))\n",
        "        # Layer two\n",
        "        self.conv2d_2 = nn.Sequential(nn.Conv2d(32, 64, (3,3), stride=1, padding=2),\n",
        "                        nn.ReLU(),\n",
        "                        nn.MaxPool2d(3, 2))\n",
        "        # Layer three\n",
        "        self.conv2d_3 = nn.Sequential(nn.Conv2d(64, 128, (3,3), stride=1, padding=2),\n",
        "                        nn.ReLU(),\n",
        "                        nn.MaxPool2d(3, 2))\n",
        "        # Layer four\n",
        "        self.conv2d_4 = nn.Sequential(nn.Conv2d(128, 256, (3,3), stride=2, padding=2),\n",
        "                        nn.ReLU(),\n",
        "                        nn.AdaptiveAvgPool2d((1, 1)))\n",
        "        \n",
        "        # Fully Connected_one(Classifier)\n",
        "        self.fc_1 = nn.LazyLinear(256, 10)\n",
        "\n",
        "    def forward(self, x):\n",
        "        \n",
        "        # Layer_one\n",
        "        y1 = self.conv2d_1(x)\n",
        "\n",
        "        # Layer_two\n",
        "        y2 = self.conv2d_2(y1)\n",
        "\n",
        "        # Layer_three\n",
        "        y3 = self.conv2d_3(y2)\n",
        "\n",
        "        # Layer_four\n",
        "        y4 = self.conv2d_4(y3)\n",
        "        y4 = y4.flatten(1)\n",
        "\n",
        "        # Fully_connected\n",
        "        y = self.fc_1(y4)\n",
        "        \n",
        "\n",
        "        return y\n",
        "\n",
        "\n",
        "\n",
        "        \n",
        "\n"
      ],
      "metadata": {
        "id": "qmNQ5dWWm43E"
      },
      "execution_count": null,
      "outputs": []
    },
    {
      "cell_type": "code",
      "source": [
        "model = cluster_model(num_class).to(device)\n",
        "model"
      ],
      "metadata": {
        "colab": {
          "base_uri": "https://localhost:8080/"
        },
        "id": "jhwv-W3k5Svh",
        "outputId": "52209298-6cb5-4ab9-9103-2b2237f0166e"
      },
      "execution_count": null,
      "outputs": [
        {
          "output_type": "stream",
          "name": "stderr",
          "text": [
            "/usr/local/lib/python3.7/dist-packages/torch/nn/modules/lazy.py:178: UserWarning: Lazy modules are a new feature under heavy development so changes to the API or functionality can happen at any moment.\n",
            "  warnings.warn('Lazy modules are a new feature under heavy development '\n"
          ]
        },
        {
          "output_type": "execute_result",
          "data": {
            "text/plain": [
              "cluster_model(\n",
              "  (conv2d_1): Sequential(\n",
              "    (0): Conv2d(3, 32, kernel_size=(3, 3), stride=(1, 1), padding=(2, 2))\n",
              "    (1): ReLU()\n",
              "    (2): MaxPool2d(kernel_size=3, stride=2, padding=0, dilation=1, ceil_mode=False)\n",
              "  )\n",
              "  (conv2d_2): Sequential(\n",
              "    (0): Conv2d(32, 64, kernel_size=(3, 3), stride=(1, 1), padding=(2, 2))\n",
              "    (1): ReLU()\n",
              "    (2): MaxPool2d(kernel_size=3, stride=2, padding=0, dilation=1, ceil_mode=False)\n",
              "  )\n",
              "  (conv2d_3): Sequential(\n",
              "    (0): Conv2d(64, 128, kernel_size=(3, 3), stride=(1, 1), padding=(2, 2))\n",
              "    (1): ReLU()\n",
              "    (2): MaxPool2d(kernel_size=3, stride=2, padding=0, dilation=1, ceil_mode=False)\n",
              "  )\n",
              "  (conv2d_4): Sequential(\n",
              "    (0): Conv2d(128, 256, kernel_size=(3, 3), stride=(2, 2), padding=(2, 2))\n",
              "    (1): ReLU()\n",
              "    (2): AdaptiveAvgPool2d(output_size=(1, 1))\n",
              "  )\n",
              "  (fc_1): LazyLinear(in_features=0, out_features=256, bias=True)\n",
              ")"
            ]
          },
          "metadata": {},
          "execution_count": 166
        }
      ]
    },
    {
      "cell_type": "code",
      "source": [
        "model(torch.randn(10, 3, 32, 32).to(device)).shape"
      ],
      "metadata": {
        "colab": {
          "base_uri": "https://localhost:8080/"
        },
        "id": "f2Fy0jK-7BpF",
        "outputId": "30c6570a-a054-479a-8f66-0965aa56ee97"
      },
      "execution_count": null,
      "outputs": [
        {
          "output_type": "execute_result",
          "data": {
            "text/plain": [
              "torch.Size([10, 256])"
            ]
          },
          "metadata": {},
          "execution_count": 167
        }
      ]
    },
    {
      "cell_type": "code",
      "source": [
        "a = next(iter(dataloaders['train']))\n",
        "a[0].shape\n",
        "# model(a[0].cuda()).shape"
      ],
      "metadata": {
        "colab": {
          "base_uri": "https://localhost:8080/"
        },
        "id": "gbvaDfsh5_Tx",
        "outputId": "c4ec2484-aa6d-42a4-8b29-8591ee74e3ff"
      },
      "execution_count": null,
      "outputs": [
        {
          "output_type": "execute_result",
          "data": {
            "text/plain": [
              "torch.Size([256, 3, 32, 32])"
            ]
          },
          "metadata": {},
          "execution_count": 168
        }
      ]
    },
    {
      "cell_type": "markdown",
      "source": [
        "# Config"
      ],
      "metadata": {
        "id": "MPMTRmbo_KmG"
      }
    },
    {
      "cell_type": "code",
      "source": [
        "criterion = nn.CrossEntropyLoss()\n",
        "\n",
        "optimizer = optim.SGD(model.parameters(), lr=0.1, momentum=0.9)"
      ],
      "metadata": {
        "id": "hgrdADal_KL0"
      },
      "execution_count": null,
      "outputs": []
    },
    {
      "cell_type": "markdown",
      "source": [
        "# Trainer"
      ],
      "metadata": {
        "id": "DDTyhYri_ve_"
      }
    },
    {
      "cell_type": "code",
      "source": [
        "def train_model(model, dataloaders, criterion, optimizer, num_epochs):\n",
        "    since = time.time()\n",
        "\n",
        "    val_acc_history = []\n",
        "\n",
        "    best_model_wts = copy.deepcopy(model.state_dict())\n",
        "    best_acc = 0.0\n",
        "\n",
        "    for epoch in range(num_epochs):\n",
        "        print('Epoch {}/{}'.format(epoch, num_epochs - 1))\n",
        "        print('-' * 10)\n",
        "\n",
        "        # Each epoch has a training and validation phase\n",
        "        for phase in ['train', 'test']:\n",
        "            if phase == 'train':\n",
        "                model.train()  # Set model to training mode\n",
        "            else:\n",
        "                model.eval()   # Set model to evaluate mode\n",
        "\n",
        "            running_loss = 0.0\n",
        "            running_corrects = 0\n",
        "\n",
        "            # Iterate over data.\n",
        "            for inputs, labels in dataloaders[phase]:\n",
        "                inputs = inputs.to(device)\n",
        "                labels = labels.to(device)\n",
        "\n",
        "                # zero the parameter gradients\n",
        "                optimizer.zero_grad()\n",
        "\n",
        "                # forward\n",
        "                # track history if only in train\n",
        "                with torch.set_grad_enabled(phase == 'train'):\n",
        "                \n",
        "                    outputs = model(inputs)\n",
        "                    loss = criterion(outputs, labels)\n",
        "\n",
        "                    _, preds = torch.max(outputs, 1)\n",
        "\n",
        "                    # backward + optimize only if in training phase\n",
        "                    if phase == 'train':\n",
        "                        loss.backward()\n",
        "                        optimizer.step()\n",
        "\n",
        "                # statistics\n",
        "                running_loss += loss.item() * inputs.size(0)\n",
        "                running_corrects += torch.sum(preds == labels.data)\n",
        "\n",
        "            epoch_loss = running_loss / len(dataloaders[phase].dataset)\n",
        "            epoch_acc = running_corrects.double() / len(dataloaders[phase].dataset)\n",
        "\n",
        "            print('{} Loss: {:.4f} Acc: {:.4f}'.format(phase, epoch_loss, epoch_acc))\n",
        "\n",
        "            # deep copy the model\n",
        "            if phase == 'test' and epoch_acc > best_acc:\n",
        "                best_acc = epoch_acc\n",
        "                best_model_wts = copy.deepcopy(model.state_dict())\n",
        "            if phase == 'test':\n",
        "                val_acc_history.append(epoch_acc)\n",
        "\n",
        "        print()\n",
        "\n",
        "    time_elapsed = time.time() - since\n",
        "    print('Training complete in {:.0f}m {:.0f}s'.format(time_elapsed // 60, time_elapsed % 60))\n",
        "    print('Best test Acc: {:4f}'.format(best_acc))\n",
        "\n",
        "    # load best model weights\n",
        "    model.load_state_dict(best_model_wts)\n",
        "    return model, val_acc_history"
      ],
      "metadata": {
        "id": "wFSId-SZ_vQ4"
      },
      "execution_count": null,
      "outputs": []
    },
    {
      "cell_type": "code",
      "source": [
        "model_ft, hist = train_model(model, dataloaders, criterion, optimizer, num_epochs=num_epochs)"
      ],
      "metadata": {
        "colab": {
          "base_uri": "https://localhost:8080/"
        },
        "id": "VsOV9wlmAUpY",
        "outputId": "6d85eb6e-c35e-4e6d-8a27-60366562ed76"
      },
      "execution_count": null,
      "outputs": [
        {
          "output_type": "stream",
          "name": "stdout",
          "text": [
            "Epoch 0/43\n",
            "----------\n",
            "train Loss: 2.7823 Acc: 0.1000\n",
            "test Loss: 2.3266 Acc: 0.1000\n",
            "\n",
            "Epoch 1/43\n",
            "----------\n",
            "train Loss: 2.1911 Acc: 0.1596\n",
            "test Loss: 2.1415 Acc: 0.1701\n",
            "\n",
            "Epoch 2/43\n",
            "----------\n",
            "train Loss: 2.1341 Acc: 0.1796\n",
            "test Loss: 2.0276 Acc: 0.2376\n",
            "\n",
            "Epoch 3/43\n",
            "----------\n",
            "train Loss: 1.8955 Acc: 0.2898\n",
            "test Loss: 1.7939 Acc: 0.3321\n",
            "\n",
            "Epoch 4/43\n",
            "----------\n",
            "train Loss: 1.6333 Acc: 0.3973\n",
            "test Loss: 1.5777 Acc: 0.4274\n",
            "\n",
            "Epoch 5/43\n",
            "----------\n",
            "train Loss: 1.4430 Acc: 0.4701\n",
            "test Loss: 1.3627 Acc: 0.4973\n",
            "\n",
            "Epoch 6/43\n",
            "----------\n",
            "train Loss: 1.2933 Acc: 0.5329\n",
            "test Loss: 1.3747 Acc: 0.5124\n",
            "\n",
            "Epoch 7/43\n",
            "----------\n",
            "train Loss: 1.1761 Acc: 0.5822\n",
            "test Loss: 1.2502 Acc: 0.5489\n",
            "\n",
            "Epoch 8/43\n",
            "----------\n",
            "train Loss: 1.0846 Acc: 0.6166\n",
            "test Loss: 1.0824 Acc: 0.6186\n",
            "\n",
            "Epoch 9/43\n",
            "----------\n",
            "train Loss: 0.9992 Acc: 0.6475\n",
            "test Loss: 1.1207 Acc: 0.6066\n",
            "\n",
            "Epoch 10/43\n",
            "----------\n",
            "train Loss: 0.9258 Acc: 0.6750\n",
            "test Loss: 1.0290 Acc: 0.6394\n",
            "\n",
            "Epoch 11/43\n",
            "----------\n",
            "train Loss: 0.8631 Acc: 0.6958\n",
            "test Loss: 0.9485 Acc: 0.6736\n",
            "\n",
            "Epoch 12/43\n",
            "----------\n",
            "train Loss: 0.8191 Acc: 0.7141\n",
            "test Loss: 0.9567 Acc: 0.6663\n",
            "\n",
            "Epoch 13/43\n",
            "----------\n",
            "train Loss: 0.7717 Acc: 0.7302\n",
            "test Loss: 0.9300 Acc: 0.6867\n",
            "\n",
            "Epoch 14/43\n",
            "----------\n",
            "train Loss: 0.7285 Acc: 0.7450\n",
            "test Loss: 0.9654 Acc: 0.6762\n",
            "\n",
            "Epoch 15/43\n",
            "----------\n",
            "train Loss: 0.6935 Acc: 0.7576\n",
            "test Loss: 1.0029 Acc: 0.6673\n",
            "\n",
            "Epoch 16/43\n",
            "----------\n",
            "train Loss: 0.6577 Acc: 0.7698\n",
            "test Loss: 0.9123 Acc: 0.6882\n",
            "\n",
            "Epoch 17/43\n",
            "----------\n",
            "train Loss: 0.6178 Acc: 0.7821\n",
            "test Loss: 1.0693 Acc: 0.6713\n",
            "\n",
            "Epoch 18/43\n",
            "----------\n",
            "train Loss: 0.5913 Acc: 0.7910\n",
            "test Loss: 0.9367 Acc: 0.6973\n",
            "\n",
            "Epoch 19/43\n",
            "----------\n",
            "train Loss: 0.5523 Acc: 0.8050\n",
            "test Loss: 0.9725 Acc: 0.6847\n",
            "\n",
            "Epoch 20/43\n",
            "----------\n",
            "train Loss: 0.5270 Acc: 0.8137\n",
            "test Loss: 0.9890 Acc: 0.6946\n",
            "\n",
            "Epoch 21/43\n",
            "----------\n",
            "train Loss: 0.5399 Acc: 0.8092\n",
            "test Loss: 1.0128 Acc: 0.6850\n",
            "\n",
            "Epoch 22/43\n",
            "----------\n",
            "train Loss: 0.4718 Acc: 0.8331\n",
            "test Loss: 1.0549 Acc: 0.6904\n",
            "\n",
            "Epoch 23/43\n",
            "----------\n",
            "train Loss: 0.4517 Acc: 0.8388\n",
            "test Loss: 1.1205 Acc: 0.6790\n",
            "\n",
            "Epoch 24/43\n",
            "----------\n",
            "train Loss: 0.4419 Acc: 0.8431\n",
            "test Loss: 1.1409 Acc: 0.6818\n",
            "\n",
            "Epoch 25/43\n",
            "----------\n",
            "train Loss: 0.4225 Acc: 0.8515\n",
            "test Loss: 1.1473 Acc: 0.6710\n",
            "\n",
            "Epoch 26/43\n",
            "----------\n",
            "train Loss: 0.4151 Acc: 0.8541\n",
            "test Loss: 1.1985 Acc: 0.6802\n",
            "\n",
            "Epoch 27/43\n",
            "----------\n",
            "train Loss: 0.4040 Acc: 0.8563\n",
            "test Loss: 1.2919 Acc: 0.6747\n",
            "\n",
            "Epoch 28/43\n",
            "----------\n",
            "train Loss: 0.3742 Acc: 0.8679\n",
            "test Loss: 1.2237 Acc: 0.6777\n",
            "\n",
            "Epoch 29/43\n",
            "----------\n",
            "train Loss: 0.3916 Acc: 0.8616\n",
            "test Loss: 1.4073 Acc: 0.6521\n",
            "\n",
            "Epoch 30/43\n",
            "----------\n",
            "train Loss: 0.3632 Acc: 0.8713\n",
            "test Loss: 1.4198 Acc: 0.6743\n",
            "\n",
            "Epoch 31/43\n",
            "----------\n",
            "train Loss: 0.3482 Acc: 0.8768\n",
            "test Loss: 1.4696 Acc: 0.6708\n",
            "\n",
            "Epoch 32/43\n",
            "----------\n",
            "train Loss: 0.3695 Acc: 0.8712\n",
            "test Loss: 1.3923 Acc: 0.6871\n",
            "\n",
            "Epoch 33/43\n",
            "----------\n",
            "train Loss: 0.3063 Acc: 0.8920\n",
            "test Loss: 1.5296 Acc: 0.6775\n",
            "\n",
            "Epoch 34/43\n",
            "----------\n",
            "train Loss: 0.3401 Acc: 0.8825\n",
            "test Loss: 1.5359 Acc: 0.6597\n",
            "\n",
            "Epoch 35/43\n",
            "----------\n",
            "train Loss: 0.2876 Acc: 0.8996\n",
            "test Loss: 1.5914 Acc: 0.6668\n",
            "\n",
            "Epoch 36/43\n",
            "----------\n",
            "train Loss: 0.3265 Acc: 0.8857\n",
            "test Loss: 1.5999 Acc: 0.6743\n",
            "\n",
            "Epoch 37/43\n",
            "----------\n",
            "train Loss: 0.2897 Acc: 0.8981\n",
            "test Loss: 1.6657 Acc: 0.6685\n",
            "\n",
            "Epoch 38/43\n",
            "----------\n",
            "train Loss: 0.3113 Acc: 0.8924\n",
            "test Loss: 1.7230 Acc: 0.6675\n",
            "\n",
            "Epoch 39/43\n",
            "----------\n",
            "train Loss: 0.3205 Acc: 0.8915\n",
            "test Loss: 1.5944 Acc: 0.6825\n",
            "\n",
            "Epoch 40/43\n",
            "----------\n",
            "train Loss: 0.2928 Acc: 0.8987\n",
            "test Loss: 1.7540 Acc: 0.6729\n",
            "\n",
            "Epoch 41/43\n",
            "----------\n",
            "train Loss: 0.2750 Acc: 0.9073\n",
            "test Loss: 1.8977 Acc: 0.6521\n",
            "\n",
            "Epoch 42/43\n",
            "----------\n",
            "train Loss: 0.2772 Acc: 0.9058\n",
            "test Loss: 1.9018 Acc: 0.6704\n",
            "\n",
            "Epoch 43/43\n",
            "----------\n",
            "train Loss: 0.2851 Acc: 0.9033\n",
            "test Loss: 1.8195 Acc: 0.6713\n",
            "\n",
            "Training complete in 15m 18s\n",
            "Best test Acc: 0.697300\n"
          ]
        }
      ]
    }
  ]
}